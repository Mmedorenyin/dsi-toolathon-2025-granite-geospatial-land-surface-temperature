{
 "cells": [
  {
   "cell_type": "code",
   "execution_count": null,
   "id": "1f0bcb65",
   "metadata": {},
   "outputs": [],
   "source": [
    "# If running on Colab you will be asked to restart the session. This is normal and you should do so.\n",
    "# Only run this cell if running on Colab.\n",
    "# Change to the notebooks directory\n",
    "%cd dsi-toolathon-2025-granite-geospatial-land-surface-temperature/notebooks/\n",
    "%pwd"
   ]
  },
  {
   "cell_type": "code",
   "execution_count": 1,
   "id": "270252ae",
   "metadata": {},
   "outputs": [],
   "source": [
    "from rasterio.crs import CRS\n",
    "import rioxarray as rxr\n",
    "from rasterio.warp import calculate_default_transform, reproject, Resampling\n",
    "from rasterio.windows import Window\n",
    "import rasterio.mask as riomask\n",
    "import rasterio\n",
    "from rasterio.crs import CRS\n",
    "import glob\n",
    "import os"
   ]
  },
  {
   "cell_type": "code",
   "execution_count": 2,
   "id": "2111fd58",
   "metadata": {},
   "outputs": [],
   "source": [
    "def reproject_crs(filename, dst_crs= 'EPSG:4326'):\n",
    "    \"\"\"\n",
    "    reprojects .tif file into given crs\n",
    "    writes reprojected version to same file\n",
    "    inputs:\n",
    "        filename: .tif file to reproject\n",
    "    \"\"\"\n",
    "    \n",
    "    src = rasterio.open(filename)\n",
    "    src_crs = str(src.crs)\n",
    "    transform, width, height = calculate_default_transform(\n",
    "                                        src.crs, dst_crs, src.width, src.height, *src.bounds)\n",
    "    kwargs = src.meta.copy()\n",
    "    kwargs.update({\n",
    "                        'crs': dst_crs,\n",
    "                        'transform': transform,\n",
    "                        'width': width,\n",
    "                        'height': height\n",
    "                    })\n",
    "    #write reprojected version to save_to\n",
    "    os.makedirs(\"../data/predictions-dsi/reprojected/\", exist_ok=True)\n",
    "    save_name = filename.replace(\"predictions-dsi\", \"predictions-dsi/reprojected/\")\n",
    "    with rasterio.open(save_name, 'w', **kwargs) as dst:\n",
    "        for i in range(1, src.count + 1):\n",
    "            reproject(\n",
    "                    source=rasterio.band(src, i),\n",
    "                    destination=rasterio.band(dst, i),\n",
    "                    src_transform=src.transform,\n",
    "                    src_crs=src.crs,\n",
    "                    dst_transform=transform,\n",
    "                    dst_crs=dst_crs,\n",
    "                    resampling=Resampling.nearest)"
   ]
  },
  {
   "cell_type": "code",
   "execution_count": 3,
   "id": "47d4e780",
   "metadata": {},
   "outputs": [],
   "source": [
    "files_to_reproject = glob.glob(\"../data/predictions-dsi/*.tif\")\n",
    "for file in files_to_reproject:\n",
    "    reproject_crs(file)"
   ]
  },
  {
   "cell_type": "code",
   "execution_count": null,
   "id": "9940e73d",
   "metadata": {},
   "outputs": [],
   "source": []
  }
 ],
 "metadata": {
  "kernelspec": {
   "display_name": "venv",
   "language": "python",
   "name": "python3"
  },
  "language_info": {
   "codemirror_mode": {
    "name": "ipython",
    "version": 3
   },
   "file_extension": ".py",
   "mimetype": "text/x-python",
   "name": "python",
   "nbconvert_exporter": "python",
   "pygments_lexer": "ipython3",
   "version": "3.12.9"
  }
 },
 "nbformat": 4,
 "nbformat_minor": 5
}
